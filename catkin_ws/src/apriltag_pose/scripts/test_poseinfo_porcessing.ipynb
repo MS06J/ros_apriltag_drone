{
 "cells": [
  {
   "cell_type": "markdown",
   "id": "88b1fc9d",
   "metadata": {},
   "source": [
    "# Test extracting pose from AprilTag detection result"
   ]
  },
  {
   "cell_type": "code",
   "execution_count": 1,
   "id": "c5490d1b",
   "metadata": {},
   "outputs": [],
   "source": [
    "import numpy\n",
    "import math"
   ]
  },
  {
   "cell_type": "code",
   "execution_count": 2,
   "id": "2dba3e17",
   "metadata": {},
   "outputs": [
    {
     "data": {
      "text/plain": [
       "array([[ 0.8601, -0.1563,  0.4855,  0.2274],\n",
       "       [ 0.061 ,  0.9766,  0.2062,  0.1104],\n",
       "       [-0.5064, -0.1477,  0.8496,  0.9514],\n",
       "       [ 0.    ,  0.    ,  0.    ,  1.    ]])"
      ]
     },
     "execution_count": 2,
     "metadata": {},
     "output_type": "execute_result"
    }
   ],
   "source": [
    "poses = numpy.asarray([[0.8601, -0.1563, 0.4855, 0.2274],\n",
    "       [0.0610, 0.9766, 0.2062, 0.1104],\n",
    "       [-0.5064, -0.1477, 0.8496, 0.9514],\n",
    "       [0.0000, 0.0000, 0.0000, 1.0000]])\n",
    "poses"
   ]
  },
  {
   "cell_type": "code",
   "execution_count": 3,
   "id": "2c75f2c5",
   "metadata": {},
   "outputs": [
    {
     "data": {
      "text/plain": [
       "array([[ 0.8601, -0.1563,  0.4855],\n",
       "       [ 0.061 ,  0.9766,  0.2062],\n",
       "       [-0.5064, -0.1477,  0.8496]])"
      ]
     },
     "execution_count": 3,
     "metadata": {},
     "output_type": "execute_result"
    }
   ],
   "source": [
    "rmat = poses[:3, :3]\n",
    "rmat"
   ]
  },
  {
   "cell_type": "code",
   "execution_count": 4,
   "id": "39c13f15",
   "metadata": {},
   "outputs": [
    {
     "data": {
      "text/plain": [
       "array([0.2274, 0.1104, 0.9514])"
      ]
     },
     "execution_count": 4,
     "metadata": {},
     "output_type": "execute_result"
    }
   ],
   "source": [
    "tvec = poses[:3, 3]\n",
    "tvec"
   ]
  },
  {
   "cell_type": "code",
   "execution_count": 5,
   "id": "e794ed56",
   "metadata": {},
   "outputs": [],
   "source": [
    "def quaternion_from_matrix(matrix):\n",
    "    \"\"\"Return quaternion from rotation matrix.\n",
    "\n",
    "    >>> R = rotation_matrix(0.123, (1, 2, 3))\n",
    "    >>> q = quaternion_from_matrix(R)\n",
    "    >>> numpy.allclose(q, [0.0164262, 0.0328524, 0.0492786, 0.9981095])\n",
    "    True\n",
    "\n",
    "    \"\"\"\n",
    "    q = numpy.empty((4, ), dtype=numpy.float64)\n",
    "    M = numpy.array(matrix, dtype=numpy.float64, copy=False)[:4, :4]\n",
    "    t = numpy.trace(M)\n",
    "    if t > M[3, 3]:\n",
    "        q[3] = t\n",
    "        q[2] = M[1, 0] - M[0, 1]\n",
    "        q[1] = M[0, 2] - M[2, 0]\n",
    "        q[0] = M[2, 1] - M[1, 2]\n",
    "    else:\n",
    "        i, j, k = 0, 1, 2\n",
    "        if M[1, 1] > M[0, 0]:\n",
    "            i, j, k = 1, 2, 0\n",
    "        if M[2, 2] > M[i, i]:\n",
    "            i, j, k = 2, 0, 1\n",
    "        t = M[i, i] - (M[j, j] + M[k, k]) + M[3, 3]\n",
    "        q[i] = t\n",
    "        q[j] = M[i, j] + M[j, i]\n",
    "        q[k] = M[k, i] + M[i, k]\n",
    "        q[3] = M[k, j] - M[j, k]\n",
    "    q *= 0.5 / math.sqrt(t * M[3, 3])\n",
    "    return q"
   ]
  },
  {
   "cell_type": "code",
   "execution_count": 6,
   "id": "758331a4",
   "metadata": {},
   "outputs": [
    {
     "data": {
      "text/plain": [
       "array([-0.09216271,  0.2583108 ,  0.05658931,  0.95998698])"
      ]
     },
     "execution_count": 6,
     "metadata": {},
     "output_type": "execute_result"
    }
   ],
   "source": [
    "quat = quaternion_from_matrix(poses)\n",
    "quat"
   ]
  },
  {
   "cell_type": "code",
   "execution_count": null,
   "id": "749177f2",
   "metadata": {},
   "outputs": [],
   "source": [
    "R = tr.random_rotation_matrix()"
   ]
  }
 ],
 "metadata": {
  "kernelspec": {
   "display_name": "Python 3",
   "language": "python",
   "name": "python3"
  },
  "language_info": {
   "codemirror_mode": {
    "name": "ipython",
    "version": 3
   },
   "file_extension": ".py",
   "mimetype": "text/x-python",
   "name": "python",
   "nbconvert_exporter": "python",
   "pygments_lexer": "ipython3",
   "version": "3.8.10"
  }
 },
 "nbformat": 4,
 "nbformat_minor": 5
}
