{
 "cells": [
  {
   "cell_type": "markdown",
   "id": "0f2eeaea",
   "metadata": {},
   "source": [
    "# Test extracting pose from AprilTag detection result"
   ]
  },
  {
   "cell_type": "code",
   "execution_count": null,
   "id": "36f26022",
   "metadata": {},
   "outputs": [],
   "source": [
    "result = [\n",
    "Detection(tag_family=b'tag36h11', tag_id=1, hamming=1, goodness=0.0, decision_margin=16.56458282470703,\n",
    "\thomography=array([[-0.2558, -1.0541, -65.9061],\n",
    "\t\t       [0.6249, -0.4939, -58.6453],\n",
    "\t\t       [-0.0001, -0.0005, -0.0909]]), \n",
    "\tcenter=array([725.0838, 645.2017]), \n",
    "\tcorners=array([[715.8997, 651.3984],\n",
    "\t\t       [719.5330, 635.7481],\n",
    "\t\t       [734.1347, 639.0948],\n",
    "\t\t       [730.5848, 654.5707]])), \n",
    "\tarray([[0.2302, 0.9409, -0.2484, 1.7383],\n",
    "\t\t[-0.9717, 0.2364, -0.0050, 1.9428],\n",
    "\t\t[0.0540, 0.2425, 0.9687, 14.9950],\n",
    "\t\t[0.0000, 0.0000, 0.0000, 1.0000]]), \n",
    "\t40.421265977954675, \n",
    "\t0.0018750573494745386, \n",
    "Detection(tag_family=b'tag36h11', tag_id=2, hamming=0, goodness=0.0, decision_margin=19.623146057128906,\n",
    "\thomography=array([[-0.0379, 2.4070, 66.8138],\n",
    "\t\t       [-0.8755, 1.6329, 56.7344],\n",
    "\t\t       [-0.0003, 0.0024, 0.0914]]), \n",
    "\tcenter=array([730.6723, 620.4447]), \n",
    "\tcorners=array([[721.5269, 626.7220],\n",
    "\t\t       [724.9706, 610.7334],\n",
    "\t\t       [739.4025, 614.4524],\n",
    "\t\t       [736.0526, 629.6083]])), \n",
    "\tarray([[0.2231, 0.9352, -0.2750, 1.7683],\n",
    "\t       [-0.9704, 0.2398, 0.0280, 1.8281],\n",
    "\t       [0.0922, 0.2606, 0.9610, 15.0298],\n",
    "\t       [0.0000, 0.0000, 0.0000, 1.0000]]), \n",
    "\t640.0174659973936, \n",
    "\t0.04180737739518036, \n",
    "Detection(tag_family=b'tag36h11', tag_id=3, hamming=1, goodness=0.0, decision_margin=17.98796272277832, \n",
    "\thomography=array([[-1.4697, -1.0114, -63.2644],\n",
    "\t\t       [-0.4876, -0.4842, -57.6704],\n",
    "\t\t       [-0.0019, -0.0005, -0.0901]]), \n",
    "\tcenter=array([701.7802, 639.7265]), \n",
    "\tcorners=array([[692.5905, 646.0465],\n",
    "\t\t       [696.2452, 630.1541],\n",
    "\t\t       [710.4960, 633.7324],\n",
    "\t\t       [707.4866, 649.5954]])), \n",
    "\tarray([[0.2209, 0.9247, -0.3099, 1.6020],\n",
    "\t       [-0.9633, 0.2566, 0.0790, 1.8872],\n",
    "\t       [0.1526, 0.2811, 0.9475, 14.7601],\n",
    "\t       [0.0000, 0.0000, 0.0000, 1.0000]]), \n",
    "\t886.7230399256852, \n",
    "\t0.024739972210967524, \n",
    "Detection(tag_family=b'tag36h11', tag_id=4, hamming=0, goodness=0.0, decision_margin=19.11111068725586, \n",
    "\thomography=array([[-0.5986, 1.7504, 63.3334],\n",
    "\t\t       [-1.3746, 1.1065, 55.0818],\n",
    "\t\t       [-0.0011, 0.0015, 0.0896]]), \n",
    "\tcenter=array([707.1612, 615.0266]), \n",
    "\tcorners=array([[697.7736, 621.1117],\n",
    "\t\t       [701.5174, 605.0776],\n",
    "\t\t       [716.4559, 609.0018],\n",
    "\t\t       [712.4833, 624.4084]])), \n",
    "\tarray([[0.2443, 0.9378, -0.2467, 1.6305],\n",
    "\t       [-0.9676, 0.2524, 0.0012, 1.7732],\n",
    "\t       [0.0634, 0.2384, 0.9691, 14.7920],\n",
    "\t       [0.0000, 0.0000, 0.0000, 1.0000]]), \n",
    "\t1579.60871413704, \n",
    "\t0.026761332749998076\n",
    "]"
   ]
  },
  {
   "cell_type": "code",
   "execution_count": null,
   "id": "4e9fd6ee",
   "metadata": {},
   "outputs": [],
   "source": []
  },
  {
   "cell_type": "code",
   "execution_count": null,
   "id": "5ea34709",
   "metadata": {},
   "outputs": [],
   "source": []
  },
  {
   "cell_type": "code",
   "execution_count": null,
   "id": "cd43b731",
   "metadata": {},
   "outputs": [],
   "source": []
  },
  {
   "cell_type": "code",
   "execution_count": null,
   "id": "87a00723",
   "metadata": {},
   "outputs": [],
   "source": []
  },
  {
   "cell_type": "code",
   "execution_count": null,
   "id": "22647a5c",
   "metadata": {},
   "outputs": [],
   "source": []
  },
  {
   "cell_type": "code",
   "execution_count": null,
   "id": "55742d94",
   "metadata": {},
   "outputs": [],
   "source": []
  }
 ],
 "metadata": {
  "kernelspec": {
   "display_name": "Python 3",
   "language": "python",
   "name": "python3"
  },
  "language_info": {
   "codemirror_mode": {
    "name": "ipython",
    "version": 3
   },
   "file_extension": ".py",
   "mimetype": "text/x-python",
   "name": "python",
   "nbconvert_exporter": "python",
   "pygments_lexer": "ipython3",
   "version": "3.8.10"
  }
 },
 "nbformat": 4,
 "nbformat_minor": 5
}
